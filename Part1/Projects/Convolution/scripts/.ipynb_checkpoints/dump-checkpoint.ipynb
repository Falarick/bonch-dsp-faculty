{
 "cells": [
  {
   "cell_type": "code",
   "execution_count": 1,
   "metadata": {},
   "outputs": [],
   "source": [
    "import numpy as np\n",
    "import matplotlib.pyplot as plt"
   ]
  },
  {
   "cell_type": "code",
   "execution_count": 21,
   "metadata": {},
   "outputs": [],
   "source": [
    "\"\"\"\n",
    "DSP_UINT8   = 0, ///< int8_t\n",
    "DSP_INT16   = 1, ///< int16_t\n",
    "DSP_INT32   = 2, ///< int32_t\n",
    "DSP_FLOAT32 = 3, ///< float\n",
    "DSP_FLOAT64 = 4  ///< double\n",
    "\"\"\"\n",
    "def type_map(dtype):\n",
    "    if dtype == np.uint8:\n",
    "        return 0\n",
    "    if dtype == np.int16:\n",
    "        return 1\n",
    "    if dtype == np.int32:\n",
    "        return 2\n",
    "    if dtype == np.float32:\n",
    "        return 3\n",
    "    if dtype == np.float64:\n",
    "        return 4"
   ]
  },
  {
   "cell_type": "code",
   "execution_count": 22,
   "metadata": {},
   "outputs": [],
   "source": [
    "def dump_signal(filename, signal, dtype):\n",
    "    payload = int(type_map(dtype)).to_bytes(4, 'little') + \\\n",
    "              int(len(signal.shape)).to_bytes(4, 'little')\n",
    "    for axis in signal.shape:\n",
    "        payload += int(axis).to_bytes(8, 'little')\n",
    "    payload += dtype(signal).tobytes()\n",
    "        \n",
    "    with open(filename, \"wb\") as f:\n",
    "        f.write(payload)\n",
    "        \n",
    "        \n",
    "def read_signal(filename, dtype=np.float32):\n",
    "    with open(filename, \"rb\") as f:\n",
    "        payload = f.read()\n",
    "        \n",
    "    offset = 4\n",
    "    dims = np.frombuffer(payload, np.int32, 1, offset)[0]\n",
    "    offset += 4\n",
    "    \n",
    "    shape = []\n",
    "    length = 1\n",
    "    for i in range(dims):\n",
    "        shape.append(np.frombuffer(payload, np.int64, 1, offset)[0])\n",
    "        length *= shape[-1] \n",
    "        offset += 8\n",
    "    shape = tuple(shape)\n",
    "    signal = np.frombuffer(payload, dtype, length, offset)\n",
    "    return signal.reshape(shape)"
   ]
  },
  {
   "cell_type": "code",
   "execution_count": 23,
   "metadata": {},
   "outputs": [],
   "source": [
    "F = np.asarray([\n",
    "    9.11653248e-06,  2.62757708e-05,  4.43069066e-05,  4.80156199e-05,\n",
    "    2.01716419e-05, -4.79548759e-05, -1.45283658e-04, -2.35415025e-04,\n",
    "   -2.63132813e-04, -1.75046584e-04,  5.04629730e-05,  3.75954269e-04,\n",
    "    6.95779863e-04,  8.57371305e-04,  7.14586328e-04,  1.99478220e-04,\n",
    "   -6.15022433e-04, -1.49429722e-03, -2.08735128e-03, -2.03997282e-03,\n",
    "   -1.14725034e-03,  5.09373347e-04,  2.50485053e-03,  4.14136149e-03,\n",
    "    4.65417629e-03,  3.50427672e-03,  6.60461827e-04, -3.24704499e-03,\n",
    "   -6.99668346e-03, -9.09777348e-03, -8.29994171e-03, -4.13651602e-03,\n",
    "    2.69884992e-03,  1.03232756e-02,  1.60722631e-02,  1.72897964e-02,\n",
    "    1.22979194e-02,  1.24128484e-03, -1.35077606e-02, -2.75994751e-02,\n",
    "   -3.56412910e-02, -3.26237130e-02, -1.54598909e-02,  1.58199937e-02,\n",
    "    5.76190751e-02,  1.03276147e-01,  1.44454776e-01,  1.73084041e-01,\n",
    "    1.83334751e-01,  1.73084041e-01,  1.44454776e-01,  1.03276147e-01,\n",
    "    5.76190751e-02,  1.58199937e-02, -1.54598909e-02, -3.26237130e-02,\n",
    "   -3.56412910e-02, -2.75994751e-02, -1.35077606e-02,  1.24128484e-03,\n",
    "    1.22979194e-02,  1.72897964e-02,  1.60722631e-02,  1.03232756e-02,\n",
    "    2.69884992e-03, -4.13651602e-03, -8.29994171e-03, -9.09777348e-03,\n",
    "   -6.99668346e-03, -3.24704499e-03,  6.60461827e-04,  3.50427672e-03,\n",
    "    4.65417629e-03,  4.14136149e-03,  2.50485053e-03,  5.09373347e-04,\n",
    "   -1.14725034e-03, -2.03997282e-03, -2.08735128e-03, -1.49429722e-03,\n",
    "   -6.15022433e-04,  1.99478220e-04,  7.14586328e-04,  8.57371305e-04,\n",
    "    6.95779863e-04,  3.75954269e-04,  5.04629730e-05, -1.75046584e-04,\n",
    "   -2.63132813e-04, -2.35415025e-04, -1.45283658e-04, -4.79548759e-05,\n",
    "    2.01716419e-05,  4.80156199e-05,  4.43069066e-05,  2.62757708e-05,\n",
    "    9.11653248e-06\n",
    "])\n",
    "\n",
    "dump_signal(\"filter.bin\", F, np.float32)"
   ]
  },
  {
   "cell_type": "code",
   "execution_count": 25,
   "metadata": {},
   "outputs": [],
   "source": [
    "QF = np.int16((2 ** 15 - 1) * F)\n",
    "dump_signal(\"../data/filter_16bit.bin\", QF, np.int16)"
   ]
  },
  {
   "cell_type": "code",
   "execution_count": 26,
   "metadata": {},
   "outputs": [],
   "source": [
    "S = np.fromfile(\"../data/4fsk.npbin\")\n",
    "S = S.reshape((S.shape[0] // 2, 2))\n",
    "dump_signal(\"../data/signal_16bit.bin\", QF, np.int16)"
   ]
  }
 ],
 "metadata": {
  "kernelspec": {
   "display_name": "Python 3",
   "language": "python",
   "name": "python3"
  },
  "language_info": {
   "codemirror_mode": {
    "name": "ipython",
    "version": 3
   },
   "file_extension": ".py",
   "mimetype": "text/x-python",
   "name": "python",
   "nbconvert_exporter": "python",
   "pygments_lexer": "ipython3",
   "version": "3.5.3"
  }
 },
 "nbformat": 4,
 "nbformat_minor": 2
}
